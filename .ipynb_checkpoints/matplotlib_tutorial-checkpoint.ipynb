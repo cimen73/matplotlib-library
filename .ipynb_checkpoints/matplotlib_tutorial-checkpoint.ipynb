{
 "cells": [
  {
   "cell_type": "code",
   "execution_count": null,
   "id": "b61b3ee8",
   "metadata": {},
   "outputs": [],
   "source": [
    "import matplotlib.pyplot as plt\n",
    "import pandas as pd\n",
    "import numpy as np"
   ]
  },
  {
   "cell_type": "code",
   "execution_count": null,
   "id": "7d2e2b16",
   "metadata": {},
   "outputs": [],
   "source": [
    "\n",
    "<H3> Basic Drawing Procedures </H3>\n",
    "\n",
    "<p>Plot y versus x as lines and/or markers.</p>\n",
    "<p>plot(\\*args[, scalex, scaley, data])</p>\n"
   ]
  },
  {
   "cell_type": "code",
   "execution_count": null,
   "id": "d0622894",
   "metadata": {},
   "outputs": [],
   "source": [
    "plt.plot([1,2,3,4], [1,4,9,16])"
   ]
  },
  {
   "cell_type": "code",
   "execution_count": null,
   "id": "db49c21c",
   "metadata": {},
   "outputs": [],
   "source": [
    "x = [1,2,3,4]\n",
    "y = [1,4,9,16]\n",
    "\n",
    "\n",
    "plt.plot(x,y)\n",
    "plt.show()"
   ]
  },
  {
   "cell_type": "code",
   "execution_count": null,
   "id": "1fea1f9d",
   "metadata": {},
   "outputs": [],
   "source": [
    "plt.title(\"Our first chart!\")\n",
    "plt.xlabel('x axis')\n",
    "plt.ylabel('y axis')\n",
    "plt.plot(x,y)\n",
    "plt.show()"
   ]
  },
  {
   "cell_type": "code",
   "execution_count": null,
   "id": "d48ceb46",
   "metadata": {},
   "outputs": [],
   "source": [
    "\n",
    "# Normally notches are placed automatically\n",
    "# You can also define the location of the notches yourself\n",
    "\n",
    "plt.xticks([1,2,3,4])  \n",
    "plt.yticks([1,4,9,16])\n",
    "plt.title(\"Our first chart!\")\n",
    "plt.xlabel('x axis')\n",
    "plt.ylabel('y axis')\n",
    "plt.plot(x,y)\n",
    "plt.show()"
   ]
  },
  {
   "cell_type": "markdown",
   "id": "888ba8af",
   "metadata": {},
   "source": [
    "<H3> Legend </H3>\n"
   ]
  },
  {
   "cell_type": "code",
   "execution_count": null,
   "id": "e0e5bda3",
   "metadata": {},
   "outputs": [],
   "source": [
    "plt.plot(x,y, label='x^2', color='green')\n",
    "plt.xticks([1,2,3,4,5])   \n",
    "plt.yticks([1,4,9,16,25])\n",
    "plt.title(\"Our first chart!\")\n",
    "plt.xlabel('x axis')\n",
    "plt.ylabel('y axis')\n",
    "plt.legend()\n",
    "plt.show()"
   ]
  },
  {
   "cell_type": "code",
   "execution_count": null,
   "id": "c49b757f",
   "metadata": {},
   "outputs": [],
   "source": [
    "# linewidth added\n",
    "plt.plot(x,y, label='x^2', color='blue', linewidth = 2, linestyle = '--', marker='.')\n",
    "plt.xticks([1,2,3,4,5])   \n",
    "plt.yticks([1,4,9,16,25])\n",
    "plt.title(\"Our first chart!\")\n",
    "plt.xlabel('x axis')\n",
    "plt.ylabel('y axis')\n",
    "plt.legend()\n",
    "plt.show()"
   ]
  },
  {
   "cell_type": "markdown",
   "id": "512723cc",
   "metadata": {},
   "source": [
    "<H3> Making multiple plots on the same chart </H3>\n"
   ]
  },
  {
   "cell_type": "code",
   "execution_count": null,
   "id": "b31fc6d0",
   "metadata": {},
   "outputs": [],
   "source": [
    "plt.plot(x,y, label='x^2', color='green', linewidth = 2, linestyle = '--', marker='.')\n",
    "plt.xticks([0,1,2,3,4,5])   \n",
    "plt.yticks([0,1,4,9,16,25])\n",
    "plt.title(\"Our first chart!\")\n",
    "plt.xlabel('x axis')\n",
    "plt.ylabel('y axis')\n",
    "\n",
    "\n",
    "# 2. We draw our line\n",
    "x2 = np.arange(0,5,0.5)\n",
    "plt.plot(x2,x2*2,color='red', linewidth = 2, marker='.', label='2*x')\n",
    "\n",
    "plt.legend()\n",
    "plt.show()"
   ]
  },
  {
   "cell_type": "markdown",
   "id": "d74ca472",
   "metadata": {},
   "source": [
    "<H3> Save your chart to your computer </H3>\n"
   ]
  },
  {
   "cell_type": "code",
   "execution_count": null,
   "id": "35a68ee4",
   "metadata": {},
   "outputs": [],
   "source": [
    "plt.plot(x,y, label='x^2', color='green', linewidth = 2, linestyle = '--', marker='.')\n",
    "plt.xticks([0,1,2,3,4,5])   \n",
    "plt.yticks([0,1,4,9,16,25])\n",
    "plt.title(\"Our first chart!\")\n",
    "plt.xlabel('x axis')\n",
    "plt.ylabel('y axis')\n",
    "\n",
    "\n",
    "# 2. We draw our line\n",
    "x2 = np.arange(0,5,0.5)\n",
    "plt.plot(x2,x2*2,color='red', linewidth = 2, marker='.', label='2*x')\n",
    "\n",
    "plt.legend()\n",
    "\n",
    "plt.savefig('first.png', dpi=300)\n",
    "\n",
    "plt.show()"
   ]
  },
  {
   "cell_type": "markdown",
   "id": "4550b181",
   "metadata": {},
   "source": [
    "<H3>Barchart</H3>"
   ]
  },
  {
   "cell_type": "code",
   "execution_count": null,
   "id": "2586388a",
   "metadata": {},
   "outputs": [],
   "source": [
    "x = ['USA, 'CANADA', 'TOKYO']\n",
    "y = [120, 178, 87]\n",
    "\n",
    "plt.bar(x,y)\n",
    "plt.show()"
   ]
  },
  {
   "cell_type": "code",
   "execution_count": null,
   "id": "c3631c1d",
   "metadata": {},
   "outputs": [],
   "source": [
    "\n",
    "#If you want to paint the inside of one of the sticks to differentiate it from the others:\n",
    "x = ['USA, 'CANADA', 'TOKYO']\n",
    "y = [120, 178, 87]\n",
    "\n",
    "rod = plt.bar(x,y)\n",
    "rod[1].set_hatch('/')\n",
    "rod[0].set_hatch('.')\n",
    "plt.show()"
   ]
  },
  {
   "cell_type": "code",
   "execution_count": null,
   "id": "f8926d39",
   "metadata": {},
   "outputs": [],
   "source": [
    "<H1> Detailed Examples </H1>\n"
   ]
  },
  {
   "cell_type": "code",
   "execution_count": null,
   "id": "13ef5d24",
   "metadata": {},
   "outputs": [],
   "source": [
    "gas = pd.read_csv('gas-prices.csv')\n",
    "\n",
    "gas\n"
   ]
  },
  {
   "cell_type": "code",
   "execution_count": null,
   "id": "3b713afa",
   "metadata": {},
   "outputs": [],
   "source": [
    "plt.title('GASOLINE PRİCES')\n",
    "plt.plot(gas['Year'], gas['USA'], 'b-', label='USA')\n",
    "\n",
    "plt.xlabel('Year')\n",
    "plt.ylabel('Dollar')\n",
    "\n",
    "plt.legend()\n",
    "plt.show()"
   ]
  },
  {
   "cell_type": "code",
   "execution_count": null,
   "id": "540542c3",
   "metadata": {},
   "outputs": [],
   "source": [
    "\n",
    "plt.title('GASOLINE PRİCES')\n",
    "\n",
    "plt.plot(gas.Year, gas.USA, 'b-', label='USA')\n",
    "plt.plot(gas.Year, gas['Canada'], 'r-', label=\"Canada\")\n",
    "plt.plot(gas.Year, gas['South Korea'], 'g.-', label='South Korea')\n",
    "plt.plot(gas.Year, gas['France'], 'y.-', label='France')\n",
    "plt.plot(gas['Year'], gas.Germany, color='orange', label='Germany')\n",
    "\n",
    "plt.xlabel('Year')\n",
    "plt.ylabel('Dollar')\n",
    "\n",
    "plt.legend()\n",
    "\n",
    "plt.show()"
   ]
  },
  {
   "cell_type": "markdown",
   "id": "053e3683",
   "metadata": {},
   "source": [
    "<H3>Figure Size</H3>\n",
    "You can change the size of your table:\n",
    "\n",
    "plt.figure(figsize=(XWidth,Ywidth))"
   ]
  },
  {
   "cell_type": "code",
   "execution_count": null,
   "id": "0a74de44",
   "metadata": {
    "scrolled": true
   },
   "outputs": [],
   "source": [
    "plt.figure(figsize=(14,5))\n",
    "plt.title('GASOLINE PRİCES')\n",
    "\n",
    "plt.plot(gas.Year, gas.USA, 'b-', label='USA')\n",
    "plt.plot(gas.Year, gas['Canada'], 'r-', label=\"Canada\")\n",
    "plt.plot(gas.Year, gas['South Korea'], 'g.-', label='South Korea')\n",
    "plt.plot(gas.Year, gas['France'], 'y.-', label='France')\n",
    "\n",
    "\n",
    "plt.xlabel('Year')\n",
    "plt.ylabel('Dollar')\n",
    "\n",
    "plt.legend()\n",
    "plt.savefig('second.png', dpi=300)\n",
    "plt.show()\n"
   ]
  }
 ],
 "metadata": {
  "kernelspec": {
   "display_name": "Python 3 (ipykernel)",
   "language": "python",
   "name": "python3"
  },
  "language_info": {
   "codemirror_mode": {
    "name": "ipython",
    "version": 3
   },
   "file_extension": ".py",
   "mimetype": "text/x-python",
   "name": "python",
   "nbconvert_exporter": "python",
   "pygments_lexer": "ipython3",
   "version": "3.9.13"
  }
 },
 "nbformat": 4,
 "nbformat_minor": 5
}
